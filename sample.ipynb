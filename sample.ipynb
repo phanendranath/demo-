import numpy
import pandas
import matplotlib.pyplot as plt

print('-'* 10)
for i in range(1,100):
      print(i)
